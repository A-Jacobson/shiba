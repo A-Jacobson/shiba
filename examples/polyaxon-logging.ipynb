{
 "cells": [
  {
   "cell_type": "code",
   "execution_count": 21,
   "metadata": {},
   "outputs": [],
   "source": [
    "# to auth set env vars listed here https://docs.polyaxon.com/references/polyaxon-client-python/#authentication"
   ]
  },
  {
   "cell_type": "code",
   "execution_count": 22,
   "metadata": {},
   "outputs": [],
   "source": [
    "from polyaxon_client.client import PolyaxonClient\n",
    "from polyaxon_client.tracking import Experiment"
   ]
  },
  {
   "cell_type": "code",
   "execution_count": 23,
   "metadata": {},
   "outputs": [],
   "source": [
    "client = PolyaxonClient()"
   ]
  },
  {
   "cell_type": "code",
   "execution_count": 24,
   "metadata": {},
   "outputs": [],
   "source": [
    "experiment = Experiment(\n",
    "    project=None,\n",
    "    experiment_id=None,\n",
    "    group_id=None,\n",
    "    client=client,\n",
    "    track_logs=True,\n",
    "    track_git=True,\n",
    "    track_env=True,\n",
    "    outputs_store=None)"
   ]
  },
  {
   "cell_type": "code",
   "execution_count": 25,
   "metadata": {},
   "outputs": [],
   "source": [
    "# Example created with tags and description \n",
    "experiment.create(name='local_logging', tags=['nlp'], description='Test Local logging')"
   ]
  },
  {
   "cell_type": "code",
   "execution_count": 27,
   "metadata": {},
   "outputs": [],
   "source": [
    "experiment.log_framework('pytorch')\n"
   ]
  },
  {
   "cell_type": "code",
   "execution_count": 39,
   "metadata": {},
   "outputs": [],
   "source": [
    "class Cat:\n",
    "    def __init__(self, t, cb):\n",
    "        self.type = t\n",
    "        self.state = {t:}\n",
    "        self.cb = cb\n",
    "        \n",
    "    def print_cb(self):\n",
    "        print(cb)"
   ]
  },
  {
   "cell_type": "code",
   "execution_count": 40,
   "metadata": {},
   "outputs": [],
   "source": [
    "def cb(self):\n",
    "    return(self.type)"
   ]
  },
  {
   "cell_type": "code",
   "execution_count": 41,
   "metadata": {},
   "outputs": [],
   "source": [
    "cat = Cat(t='meow', cb=cb)"
   ]
  },
  {
   "cell_type": "code",
   "execution_count": 42,
   "metadata": {},
   "outputs": [
    {
     "name": "stdout",
     "output_type": "stream",
     "text": [
      "<function cb at 0x116d9d378>\n"
     ]
    }
   ],
   "source": [
    "cat.print_cb()"
   ]
  },
  {
   "cell_type": "code",
   "execution_count": null,
   "metadata": {},
   "outputs": [],
   "source": []
  }
 ],
 "metadata": {
  "kernelspec": {
   "display_name": "Python 3",
   "language": "python",
   "name": "python3"
  },
  "language_info": {
   "codemirror_mode": {
    "name": "ipython",
    "version": 3
   },
   "file_extension": ".py",
   "mimetype": "text/x-python",
   "name": "python",
   "nbconvert_exporter": "python",
   "pygments_lexer": "ipython3",
   "version": "3.7.3"
  }
 },
 "nbformat": 4,
 "nbformat_minor": 2
}
