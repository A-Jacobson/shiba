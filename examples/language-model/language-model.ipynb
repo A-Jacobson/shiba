{
 "cells": [
  {
   "cell_type": "code",
   "execution_count": 2,
   "metadata": {},
   "outputs": [],
   "source": [
    "import math\n",
    "import numpy as np\n",
    "import torch\n",
    "from torch import nn\n",
    "\n",
    "from shiba import Trainer\n",
    "from shiba.steps import rnn_step\n",
    "from shiba.callbacks import LambdaCallback, TensorBoard, Metric, Save\n",
    "from shiba.utils import model_summary\n",
    "\n",
    "from data import Corpus, LMLoader\n",
    "from model import LSTMLM"
   ]
  },
  {
   "cell_type": "markdown",
   "metadata": {},
   "source": [
    "## Load and Tokenize Data"
   ]
  },
  {
   "cell_type": "code",
   "execution_count": 3,
   "metadata": {},
   "outputs": [
    {
     "name": "stdout",
     "output_type": "stream",
     "text": [
      "CPU times: user 20.9 s, sys: 42.8 ms, total: 21 s\n",
      "Wall time: 21 s\n"
     ]
    }
   ],
   "source": [
    "%time corpus = Corpus(path='data/wikitext-2/')"
   ]
  },
  {
   "cell_type": "markdown",
   "metadata": {},
   "source": [
    "## Set Hyperparams"
   ]
  },
  {
   "cell_type": "code",
   "execution_count": 4,
   "metadata": {},
   "outputs": [],
   "source": [
    "vocab_size = len(corpus.dictionary) # num unique tokens in dictionary, 33278\n",
    "batch_size = 32\n",
    "eval_batch_size = 12\n",
    "seq_len = 35 # sometimes called back prop through time (bptt) length during training.\n",
    "variable_length = True\n",
    "\n",
    "embedding_size = 10\n",
    "hidden_size = 20"
   ]
  },
  {
   "cell_type": "code",
   "execution_count": 5,
   "metadata": {},
   "outputs": [],
   "source": [
    "train_loader = LMLoader(corpus.train, batch_size, seq_len, variable_length)\n",
    "valid_loader = LMLoader(corpus.valid, batch_size, seq_len, variable_length)\n",
    "test_loader = LMLoader(corpus.test, batch_size, seq_len, variable_length)"
   ]
  },
  {
   "cell_type": "markdown",
   "metadata": {},
   "source": [
    "## Example Sequence"
   ]
  },
  {
   "cell_type": "code",
   "execution_count": 6,
   "metadata": {},
   "outputs": [],
   "source": [
    "i2w = corpus.dictionary.idx2word\n",
    "\n",
    "def to_words(indices):\n",
    "    return np.array([i2w[i] for i in indices])"
   ]
  },
  {
   "cell_type": "code",
   "execution_count": 7,
   "metadata": {},
   "outputs": [],
   "source": [
    "inputs, targets = next(train_loader)"
   ]
  },
  {
   "cell_type": "code",
   "execution_count": 15,
   "metadata": {},
   "outputs": [
    {
     "data": {
      "text/plain": [
       "(array(['<eos>', '=', 'Valkyria', 'Chronicles', 'III', '=', '<eos>',\n",
       "        '<eos>', 'Senjō', 'no', 'Valkyria', '3', ':', '<unk>',\n",
       "        'Chronicles', '(', 'Japanese', ':', '戦場のヴァルキュリア3', ',', 'lit', '.',\n",
       "        'Valkyria', 'of', 'the', 'Battlefield', '3', ')', ',', 'commonly',\n",
       "        'referred', 'to', 'as', 'Valkyria', 'Chronicles'], dtype='<U11'),\n",
       " array(['=', 'Valkyria', 'Chronicles', 'III', '=', '<eos>', '<eos>',\n",
       "        'Senjō', 'no', 'Valkyria', '3', ':', '<unk>', 'Chronicles', '(',\n",
       "        'Japanese', ':', '戦場のヴァルキュリア3', ',', 'lit', '.', 'Valkyria', 'of',\n",
       "        'the', 'Battlefield', '3', ')', ',', 'commonly', 'referred', 'to',\n",
       "        'as', 'Valkyria', 'Chronicles', 'III'], dtype='<U11'))"
      ]
     },
     "execution_count": 15,
     "metadata": {},
     "output_type": "execute_result"
    }
   ],
   "source": [
    "to_words(inputs[:,0]), to_words(targets[:,0])"
   ]
  },
  {
   "cell_type": "markdown",
   "metadata": {},
   "source": [
    "## Define Model"
   ]
  },
  {
   "cell_type": "code",
   "execution_count": 18,
   "metadata": {},
   "outputs": [],
   "source": [
    "model = LSTMLM(vocab_size=vocab_size, embedding_size=10, hidden_size=20, nlayers=2, dropout=0.5)\n",
    "hidden = model.init_hidden(batch_size)"
   ]
  },
  {
   "cell_type": "markdown",
   "metadata": {},
   "source": [
    "## count parameters"
   ]
  },
  {
   "cell_type": "code",
   "execution_count": 20,
   "metadata": {},
   "outputs": [
    {
     "data": {
      "text/markdown": [
       "| Name    | Output Size             | Parameters   |\n",
       "|:--------|:------------------------|:-------------|\n",
       "| encoder | (35, 32, 10)            | 332,780      |\n",
       "| dropout | (35, 32, 10)            | 0            |\n",
       "| lstm    | [(32, 20), (2, 32, 20)] | 5,920        |\n",
       "| decoder | (35, 32, 33278)         | 698,838      |\n",
       "| TOTAL:  | -----------------       | 1,037,538    |"
      ],
      "text/plain": [
       "<IPython.core.display.Markdown object>"
      ]
     },
     "metadata": {},
     "output_type": "display_data"
    }
   ],
   "source": [
    "model_summary(model, inputs, hidden) # batch size 1"
   ]
  },
  {
   "cell_type": "markdown",
   "metadata": {},
   "source": [
    "## Trainer"
   ]
  },
  {
   "cell_type": "code",
   "execution_count": 26,
   "metadata": {},
   "outputs": [],
   "source": [
    "def repackage_hidden(h):\n",
    "    \"\"\"Wraps hidden states in new Tensors,\n",
    "    to detach them from their history.\"\"\"\n",
    "    if isinstance(h, torch.Tensor):\n",
    "        return h.detach()\n",
    "    else:\n",
    "        return tuple(repackage_hidden(v) for v in h)\n",
    "\n",
    "\n",
    "def rnn_step(trainer, batch):\n",
    "    hidden = repackage_hidden(trainer.out['hidden'])\n",
    "    inputs, targets = batch  # inputs.shape : (batch, seq)\n",
    "    outputs, hidden = trainer.model(inputs, hidden)\n",
    "    batch_seq_len, batch_size, vocab_size = outputs.shape\n",
    "    loss = trainer.criterion(outputs.view(-1, vocab_size), targets.view(-1)) * (batch_seq_len / seq_len)  # rescale for variable sequence lengths\n",
    "    return dict(loss=loss,\n",
    "                inputs=inputs,\n",
    "                outputs=outputs,\n",
    "                hidden=hidden,\n",
    "                targets=targets)"
   ]
  },
  {
   "cell_type": "code",
   "execution_count": 27,
   "metadata": {},
   "outputs": [],
   "source": [
    "criterion = nn.CrossEntropyLoss()\n",
    "torch.op\n",
    "trainer = Trainer(model, criterion, train_step=rnn_step)"
   ]
  },
  {
   "cell_type": "markdown",
   "metadata": {},
   "source": [
    "## callbacks"
   ]
  },
  {
   "cell_type": "code",
   "execution_count": 28,
   "metadata": {},
   "outputs": [],
   "source": [
    "def clip_grad_norm(trainer, max_norm=0.25):\n",
    "    torch.nn.utils.clip_grad_norm_(trainer.model.parameters(), max_norm)\n",
    "\n",
    "def perpexity(loss):\n",
    "    # exp of cross entropy loss\n",
    "    return math.exp(loss)\n",
    "    \n",
    "callbacks = [TensorBoard(log_dir='runs/shiba-test-lm'),\n",
    "             Metric('perpexity', \n",
    "                    score_func=perpexity,\n",
    "                    transform=lambda x: x['loss'].item()),\n",
    "             Save('weights/test-lm', monitor='val_perpexity'),\n",
    "#              LambdaCallback(on_batch_end=clip_grad_norm)\n",
    "            ]\n",
    "!rm -rf runs/shiba-test-lm # clear tb logs"
   ]
  },
  {
   "cell_type": "code",
   "execution_count": 29,
   "metadata": {},
   "outputs": [
    {
     "data": {
      "application/vnd.jupyter.widget-view+json": {
       "model_id": "637a40a9faf54118b940f2887e77fb8a",
       "version_major": 2,
       "version_minor": 0
      },
      "text/plain": [
       "HBox(children=(IntProgress(value=0, max=1), HTML(value='')))"
      ]
     },
     "metadata": {},
     "output_type": "display_data"
    },
    {
     "data": {
      "application/vnd.jupyter.widget-view+json": {
       "model_id": "18c7a72cfaa64bb6bc1b45aeddb49e47",
       "version_major": 2,
       "version_minor": 0
      },
      "text/plain": [
       "HBox(children=(IntProgress(value=0, max=1764), HTML(value='')))"
      ]
     },
     "metadata": {},
     "output_type": "display_data"
    },
    {
     "data": {
      "image/png": "[encoded data removed]",
      "text/plain": [
       "<Figure size 720x432 with 1 Axes>"
      ]
     },
     "metadata": {
      "needs_background": "light"
     },
     "output_type": "display_data"
    }
   ],
   "source": [
    "trainer.find_lr(train_loader)"
   ]
  },
  {
   "cell_type": "code",
   "execution_count": 30,
   "metadata": {},
   "outputs": [
    {
     "data": {
      "application/vnd.jupyter.widget-view+json": {
       "model_id": "c1f08e629c5a4df6b2d49d00b7347951",
       "version_major": 2,
       "version_minor": 0
      },
      "text/plain": [
       "HBox(children=(IntProgress(value=0, max=4), HTML(value='')))"
      ]
     },
     "metadata": {},
     "output_type": "display_data"
    },
    {
     "data": {
      "application/vnd.jupyter.widget-view+json": {
       "model_id": "ede71773f85c459387bec2acece1d585",
       "version_major": 2,
       "version_minor": 0
      },
      "text/plain": [
       "HBox(children=(IntProgress(value=0, max=1764), HTML(value='')))"
      ]
     },
     "metadata": {},
     "output_type": "display_data"
    },
    {
     "data": {
      "application/vnd.jupyter.widget-view+json": {
       "model_id": "80ee45002fda40a395a8423835b5d98e",
       "version_major": 2,
       "version_minor": 0
      },
      "text/plain": [
       "HBox(children=(IntProgress(value=0, max=1764), HTML(value='')))"
      ]
     },
     "metadata": {},
     "output_type": "display_data"
    },
    {
     "data": {
      "application/vnd.jupyter.widget-view+json": {
       "model_id": "c6f5782ecc0f4d408e10ca73ca1fb1c5",
       "version_major": 2,
       "version_minor": 0
      },
      "text/plain": [
       "HBox(children=(IntProgress(value=0, max=1764), HTML(value='')))"
      ]
     },
     "metadata": {},
     "output_type": "display_data"
    },
    {
     "data": {
      "application/vnd.jupyter.widget-view+json": {
       "model_id": "6b92a07680a742168ed1e92d3028636b",
       "version_major": 2,
       "version_minor": 0
      },
      "text/plain": [
       "HBox(children=(IntProgress(value=0, max=1764), HTML(value='')))"
      ]
     },
     "metadata": {},
     "output_type": "display_data"
    }
   ],
   "source": [
    "trainer.fit_one_cycle(train_loader, valid_loader, epochs=4, max_lr=2e-3, callbacks=callbacks)"
   ]
  }
 ],
 "metadata": {
  "kernelspec": {
   "display_name": "Python 3",
   "language": "python",
   "name": "python3"
  },
  "language_info": {
   "codemirror_mode": {
    "name": "ipython",
    "version": 3
   },
   "file_extension": ".py",
   "mimetype": "text/x-python",
   "name": "python",
   "nbconvert_exporter": "python",
   "pygments_lexer": "ipython3",
   "version": "3.7.3"
  }
 },
 "nbformat": 4,
 "nbformat_minor": 2
}
